{
 "cells": [
  {
   "cell_type": "code",
   "execution_count": 1,
   "id": "e7e15244-ffe3-443e-af6c-4510dfa688d4",
   "metadata": {},
   "outputs": [],
   "source": [
    "import numpy as np\n"
   ]
  },
  {
   "cell_type": "code",
   "execution_count": 3,
   "id": "bbc2a3ac-3b79-439b-9c47-d3a25f992a73",
   "metadata": {},
   "outputs": [],
   "source": [
    "maze = np.array([\n",
    " [0,0,0,0,0],\n",
    " [0,1,0,1,0],\n",
    " [0,0,0,0,0],\n",
    " [0,1,1,1,0],\n",
    " [0,0,0,0,2]\n",
    "])"
   ]
  },
  {
   "cell_type": "code",
   "execution_count": 5,
   "id": "fc1d0c48-8f81-490a-b65a-22f2792ca490",
   "metadata": {},
   "outputs": [],
   "source": [
    "learning_rate = 0.1\n",
    "discount_factor = 0.9\n",
    "epsilon = 0.1\n",
    "num_episodes = 1000"
   ]
  },
  {
   "cell_type": "code",
   "execution_count": 7,
   "id": "634aecb2-3923-4c88-8539-db8dfdb236cc",
   "metadata": {},
   "outputs": [],
   "source": [
    "num_states, num_actions = maze.size ,4\n",
    "Q = np.zeros((num_states, num_actions))"
   ]
  },
  {
   "cell_type": "code",
   "execution_count": 9,
   "id": "cc188345-181d-4801-b474-6cbbb1d88136",
   "metadata": {},
   "outputs": [],
   "source": [
    "for _ in range(num_episodes) :\n",
    " state = 0 #starting position"
   ]
  },
  {
   "cell_type": "code",
   "execution_count": null,
   "id": "25a72db2-da8c-4341-bd16-270e343ed260",
   "metadata": {},
   "outputs": [],
   "source": [
    "while True :\n",
    " action = np.random.choice"
   ]
  },
  {
   "cell_type": "code",
   "execution_count": null,
   "id": "1dea4789-adf2-4f49-8bb8-1b15d5a9ab6b",
   "metadata": {},
   "outputs": [],
   "source": []
  }
 ],
 "metadata": {
  "kernelspec": {
   "display_name": "Python 3 (ipykernel)",
   "language": "python",
   "name": "python3"
  },
  "language_info": {
   "codemirror_mode": {
    "name": "ipython",
    "version": 3
   },
   "file_extension": ".py",
   "mimetype": "text/x-python",
   "name": "python",
   "nbconvert_exporter": "python",
   "pygments_lexer": "ipython3",
   "version": "3.12.7"
  }
 },
 "nbformat": 4,
 "nbformat_minor": 5
}
