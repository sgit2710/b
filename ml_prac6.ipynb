{
 "cells": [
  {
   "cell_type": "code",
   "execution_count": 1,
   "id": "6c5f86c5",
   "metadata": {},
   "outputs": [],
   "source": [
    "import warnings \n",
    "warnings.filterwarnings('ignore')"
   ]
  },
  {
   "cell_type": "code",
   "execution_count": 2,
   "id": "f2ad9d02",
   "metadata": {},
   "outputs": [],
   "source": [
    "import numpy as np\n",
    "import matplotlib.pyplot as plt\n",
    "import time"
   ]
  },
  {
   "cell_type": "code",
   "execution_count": 3,
   "id": "fca1006e",
   "metadata": {},
   "outputs": [],
   "source": [
    "# Define the maze\n",
    "maze = np.array([\n",
    "    [0, 0, 0, 0],\n",
    "    [0, 1, 1, 0],\n",
    "    [0, 1, 1, 0],\n",
    "    [0, 0, 0, 2]  # '2' is the goal\n",
    "])"
   ]
  },
  {
   "cell_type": "code",
   "execution_count": 4,
   "id": "dbbc194f",
   "metadata": {},
   "outputs": [],
   "source": [
    "# Parameters\n",
    "learning_rate = 0.1\n",
    "discount_factor = 0.9\n",
    "epsilon = 0.1\n",
    "num_episodes = 1000\n"
   ]
  },
  {
   "cell_type": "code",
   "execution_count": 5,
   "id": "22ab5c2c",
   "metadata": {},
   "outputs": [],
   "source": [
    "\n",
    "# Initialize Q-table\n",
    "num_states, num_actions = maze.size, 4\n",
    "Q = np.zeros((num_states, num_actions))\n"
   ]
  },
  {
   "cell_type": "code",
   "execution_count": 6,
   "id": "2a7d5566",
   "metadata": {},
   "outputs": [],
   "source": [
    "\n",
    "# Define actions (Up, Down, Left, Right)\n",
    "actions = [\"Up\", \"Down\", \"Left\", \"Right\"]"
   ]
  },
  {
   "cell_type": "code",
   "execution_count": 7,
   "id": "8bb5c67f",
   "metadata": {},
   "outputs": [],
   "source": [
    "# Function to move the agent\n",
    "def move(state, action):\n",
    "    row, col = divmod(state, 4)\n",
    "    if action == 0 and row > 0:  # Up\n",
    "        row -= 1\n",
    "    elif action == 1 and row < 3:  # Down\n",
    "        row += 1\n",
    "    elif action == 2 and col > 0:  # Left\n",
    "        col -= 1\n",
    "    elif action == 3 and col < 3:  # Right\n",
    "        col += 1\n",
    "    new_state = row * 4 + col\n",
    "    return new_state\n",
    "\n"
   ]
  },
  {
   "cell_type": "code",
   "execution_count": 8,
   "id": "30de49df",
   "metadata": {},
   "outputs": [],
   "source": [
    "# Training loop\n",
    "for _ in range(num_episodes):\n",
    "    state = 0  # Starting position\n",
    "    while True:\n",
    "        # Epsilon-greedy action selection\n",
    "        action = np.random.choice(num_actions) if np.random.uniform(0, 1) < epsilon else np.argmax(Q[state, :])\n",
    "        new_state = move(state, action)\n",
    "        reward = -1 if maze.flat[new_state] != 2 else 0  # Reward: 0 at goal, -1 otherwise\n",
    "        # Update Q-value\n",
    "        Q[state, action] += learning_rate * (reward + discount_factor * np.max(Q[new_state, :]) - Q[state, action])\n",
    "        state = new_state\n",
    "        if reward == 0:  # Goal state\n",
    "            break\n"
   ]
  },
  {
   "cell_type": "code",
   "execution_count": 9,
   "id": "9c310ef8",
   "metadata": {},
   "outputs": [],
   "source": [
    "\n",
    "# Visualization of the agent's movement\n",
    "def visualize_path(path):\n",
    "    fig, ax = plt.subplots()\n",
    "    ax.set_xticks(np.arange(0, 4, 1))\n",
    "    ax.set_yticks(np.arange(0, 4, 1))\n",
    "    plt.grid()\n",
    "\n",
    "    # Visualize maze with agent's path\n",
    "    maze_display = np.copy(maze)\n",
    "    for step in path:\n",
    "        row, col = divmod(step, 4)\n",
    "        maze_display[row, col] = 3  # Mark the agent's path\n",
    "\n",
    "    ax.imshow(maze_display, cmap=\"cool\", interpolation=\"nearest\")\n",
    "\n",
    "    # Add agent's path numbers on the grid\n",
    "    for i in range(4):\n",
    "        for j in range(4):\n",
    "            if maze_display[i, j] == 3:\n",
    "                ax.text(j, i, f'{i * 4 + j}', va='center', ha='center', color='black')\n",
    "\n",
    "    plt.show()\n",
    "\n"
   ]
  },
  {
   "cell_type": "code",
   "execution_count": 10,
   "id": "8212005f",
   "metadata": {},
   "outputs": [
    {
     "name": "stdout",
     "output_type": "stream",
     "text": [
      "Agent moved to state: 4\n",
      "Agent moved to state: 8\n",
      "Agent moved to state: 9\n",
      "Agent moved to state: 10\n",
      "Agent moved to state: 11\n",
      "Agent moved to state: 15\n"
     ]
    },
    {
     "data": {
      "image/png": "[encoded data removed]",
      "text/plain": [
       "<Figure size 432x288 with 1 Axes>"
      ]
     },
     "metadata": {
      "needs_background": "light"
     },
     "output_type": "display_data"
    }
   ],
   "source": [
    "# Run the agent through the maze using the learned Q-values\n",
    "current_state = 0\n",
    "path = [current_state]\n",
    "while current_state != 15:  # Goal state is 15 in 0-indexed 1D array\n",
    "    action = np.argmax(Q[current_state, :])\n",
    "    current_state = move(current_state, action)\n",
    "    path.append(current_state)\n",
    "    print(f\"Agent moved to state: {current_state}\")\n",
    "\n",
    "# Visualize the agent's path in the maze\n",
    "visualize_path(path)\n"
   ]
  },
  {
   "cell_type": "code",
   "execution_count": null,
   "id": "d7525816",
   "metadata": {},
   "outputs": [],
   "source": []
  }
 ],
 "metadata": {
  "kernelspec": {
   "display_name": "Python 3 (ipykernel)",
   "language": "python",
   "name": "python3"
  },
  "language_info": {
   "codemirror_mode": {
    "name": "ipython",
    "version": 3
   },
   "file_extension": ".py",
   "mimetype": "text/x-python",
   "name": "python",
   "nbconvert_exporter": "python",
   "pygments_lexer": "ipython3",
   "version": "3.12.7"
  }
 },
 "nbformat": 4,
 "nbformat_minor": 5
}
